{
 "cells": [
  {
   "cell_type": "code",
   "execution_count": null,
   "id": "5178500b",
   "metadata": {},
   "outputs": [
    {
     "name": "stdout",
     "output_type": "stream",
     "text": [
      "    name    locdate isHoliday\n",
      "0     신정 2016-01-01         Y\n",
      "1     설날 2016-02-07         Y\n",
      "2     설날 2016-02-08         Y\n",
      "3     설날 2016-02-09         Y\n",
      "4  대체공휴일 2016-02-10         Y\n"
     ]
    },
    {
     "data": {
      "text/plain": [
       "\" params ={'serviceKey' : '/gM4+kovrL84m5RwKe1LHZZfVVd1E/abhwXAzKwotnQzTCIw4FF8WKTSlrvzCkYjoFe+RrKNNq8AxABFwvP8Ig==', \\n         'pageNo' : '1', \\n         'numOfRows' : '10', \\n         'solYear' : '2016', \\n         'solMonth' : '01' }\\n\\nresponse = requests.get(url, params=params)\\nresponse = response.text\\nprint(response) \""
      ]
     },
     "execution_count": 12,
     "metadata": {},
     "output_type": "execute_result"
    }
   ],
   "source": [
    "import requests\n",
    "import xml.etree.ElementTree as ET\n",
    "import pandas as pd\n",
    "\n",
    "url = 'http://apis.data.go.kr/B090041/openapi/service/SpcdeInfoService/getHoliDeInfo'\n",
    "service_key = '/gM4+kovrL84m5RwKe1LHZZfVVd1E/abhwXAzKwotnQzTCIw4FF8WKTSlrvzCkYjoFe+RrKNNq8AxABFwvP8Ig=='\n",
    "\n",
    "data = []\n",
    "\n",
    "for year in range(2016, 2022):\n",
    "    for month in range(1, 13):\n",
    "        params = {\n",
    "            'serviceKey': service_key,\n",
    "            'pageNo' : '1', \n",
    "            'numOfRows' : '100', \n",
    "            'solYear' : year, \n",
    "            'solMonth' : f'{month:02d}' \n",
    "        }\n",
    "        response = requests.get(url, params=params)\n",
    "        root = ET.fromstring(response.content)\n",
    "        items = root.find('body').find('items')\n",
    "\n",
    "        if items is not None:\n",
    "            for item in items.findall('item'):\n",
    "                data.append({\n",
    "                    'name': item.findtext('dateName'),\n",
    "                    'locdate': item.findtext('locdate'),\n",
    "                    'isHoliday': item.findtext('isHoliday')\n",
    "                })\n",
    "\n",
    "df = pd.DataFrame(data)\n",
    "df['locdate'] = pd.to_datetime(df['locdate'])\n",
    "\n",
    "print(df.head())\n",
    "\n",
    "#df.to_csv('holidays_2016_2021.csv', index=False)\n",
    "\n",
    "\"\"\" params ={'serviceKey' : '/gM4+kovrL84m5RwKe1LHZZfVVd1E/abhwXAzKwotnQzTCIw4FF8WKTSlrvzCkYjoFe+RrKNNq8AxABFwvP8Ig==', \n",
    "         'pageNo' : '1', \n",
    "         'numOfRows' : '10', \n",
    "         'solYear' : '2016', \n",
    "         'solMonth' : '01' }\n",
    "\n",
    "response = requests.get(url, params=params)\n",
    "response = response.text\n",
    "print(response) \"\"\"\n",
    "\n",
    "\n"
   ]
  }
 ],
 "metadata": {
  "kernelspec": {
   "display_name": "base",
   "language": "python",
   "name": "python3"
  },
  "language_info": {
   "codemirror_mode": {
    "name": "ipython",
    "version": 3
   },
   "file_extension": ".py",
   "mimetype": "text/x-python",
   "name": "python",
   "nbconvert_exporter": "python",
   "pygments_lexer": "ipython3",
   "version": "3.12.4"
  }
 },
 "nbformat": 4,
 "nbformat_minor": 5
}
